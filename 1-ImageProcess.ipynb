{
 "cells": [
  {
   "cell_type": "code",
   "execution_count": null,
   "metadata": {},
   "outputs": [],
   "source": [
    "import tensorflow as tf\n",
    "import matplotlib.pyplot as plt\n",
    "import numpy as np\n",
    "import tensorflow_hub as hub"
   ]
  },
  {
   "cell_type": "markdown",
   "metadata": {},
   "source": [
    "# image-stylization"
   ]
  },
  {
   "cell_type": "code",
   "execution_count": null,
   "metadata": {},
   "outputs": [],
   "source": [
    "import random\n",
    "import os\n",
    "import cv2\n",
    "import tqdm\n",
    "num0=4291\n",
    "hub_module = hub.load('https://hub.tensorflow.google.cn/google/magenta/arbitrary-image-stylization-v1-256/2')\n",
    "def image_to_tensor(path_to_img):\n",
    "    img = tf.io.read_file(path_to_img)\n",
    "    img = tf.image.decode_image(img, channels=3, dtype=tf.float32)\n",
    "    \n",
    "    # Resize the image to specific dimensions\n",
    "    # img = tf.image.resize(img, [450, 600])\n",
    "    img = img[tf.newaxis, :]\n",
    "    return img\n",
    "def tensor_to_image(target,tensor,contentPath,num):\n",
    "    tensor = tensor*255\n",
    "    tensor = np.array(tensor, dtype=np.uint8)\n",
    "    tensor = tensor[0]\n",
    "    plt.imsave(target+'resize_'+str(num)+contentPath.split('/')[-1],tensor)\n",
    "\n",
    "def styleChange(target,stylePath,contentPath,num):\n",
    "    content_image_tensor = image_to_tensor(contentPath)\n",
    "    style_image_tensor = image_to_tensor(stylePath)\n",
    "    print('内容'+str(contentPath)+\",风格\"+str(stylePath)+\"结合成\"+str(target+'resize_'+contentPath.split('/')[-1]))\n",
    "    combined_result = hub_module(tf.constant(content_image_tensor), tf.constant(style_image_tensor))[0]\n",
    "    tensor_to_image(target,combined_result,contentPath,num)\n",
    "\n",
    "def addNumImage(target,path,addNum):\n",
    "    if addNum>2:\n",
    "        # 添加生成图片\n",
    "        allImage = os.listdir(target)\n",
    "        allImage.remove(path.split('/')[-1])\n",
    "        random.seed(666)\n",
    "        ImageList=random.sample(allImage,addNum)\n",
    "        for num,i in enumerate(ImageList):\n",
    "            styleChange(target,target+i,path,num)\n",
    "    else:\n",
    "        print('跳过'+str(addNum))\n",
    "for i in os.listdir('D:/code/pythonCode/Skin/trainImage/'):\n",
    "    if i != '4':\n",
    "        addNum=(num0-len(os.listdir('D:/code/pythonCode/Skin/trainImage/'+i)))//len(os.listdir('D:/code/pythonCode/Skin/trainImage/'+i))\n",
    "        for path in tqdm.tqdm(os.listdir('D:/code/pythonCode/Skin/trainImage/'+i)):\n",
    "            addNumImage('D:/code/pythonCode/Skin/trainImage/'+i+\"/\",'D:/code/pythonCode/Skin/trainImage/'+i+\"/\"+path,addNum)"
   ]
  },
  {
   "cell_type": "markdown",
   "metadata": {},
   "source": [
    "# flipConVer"
   ]
  },
  {
   "cell_type": "code",
   "execution_count": null,
   "metadata": {},
   "outputs": [],
   "source": [
    "import cv2\n",
    "import os\n",
    "import numpy as np\n",
    "from matplotlib import pyplot as plt\n",
    "def flipConVer(target,path):\n",
    "    # 此函数仅仅产生3张图片，水平翻转一张，垂直翻转一张，水平加垂直翻转一张\n",
    "    image = cv2.imread(path)\n",
    "    # 水平翻转\n",
    "    flip_horizontal = cv2.flip(image, 1)\n",
    "    image_1 = cv2.cvtColor(flip_horizontal,cv2.COLOR_BGR2RGB)\n",
    "    plt.imsave(target+'filp_1_'+path.split('/')[-1],image_1)\n",
    "    # 垂直变换\n",
    "    flip_vertical = cv2.flip(image, 0)\n",
    "    image_2 = cv2.cvtColor(flip_vertical,cv2.COLOR_BGR2RGB)\n",
    "    plt.imsave(target+'filp_2_'+path.split('/')[-1],image_2)\n",
    "    # 水平加垂直\n",
    "    flip_hv = cv2.flip(image, -1)\n",
    "    image_3 = cv2.cvtColor(flip_hv,cv2.COLOR_BGR2RGB)\n",
    "    plt.imsave(target+'filp_3_'+path.split('/')[-1],image_3)\n",
    "# 文件夹4不用叠加，他是最多的\n",
    "for num in os.listdir('D:/code/pythonCode/Skin/trainImage'):\n",
    "    if num != '4':\n",
    "        for i in os.listdir('D:/code/pythonCode/Skin/trainImage/'+num):\n",
    "            imagePath = 'D:/code/pythonCode/Skin/trainImage/'+ num + \"/\"+i\n",
    "            flipConVer('D:/code/pythonCode/Skin/trainImage/'+ num+\"/\",imagePath)"
   ]
  },
  {
   "cell_type": "markdown",
   "metadata": {},
   "source": [
    "# Pixel"
   ]
  },
  {
   "cell_type": "code",
   "execution_count": null,
   "metadata": {},
   "outputs": [],
   "source": [
    "import cv2\n",
    "import numpy as np\n",
    "image = cv2.imread(r'ISIC_0024313.jpg')\n",
    "# 生成跟图片形状相同的并且全为100的数据\n",
    "M = np.ones(image.shape, dtype='uint8')*10\n",
    "# 所有的像素减100\n",
    "image = cv2.cvtColor(cv2.add(image, M),cv2.COLOR_BGR2RGB)\n",
    "plt.imshow(image)"
   ]
  }
 ],
 "metadata": {
  "language_info": {
   "name": "python"
  },
  "orig_nbformat": 4
 },
 "nbformat": 4,
 "nbformat_minor": 2
}
