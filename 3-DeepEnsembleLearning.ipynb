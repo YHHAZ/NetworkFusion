{
 "cells": [
  {
   "cell_type": "code",
   "execution_count": 1,
   "metadata": {},
   "outputs": [],
   "source": [
    "from __future__ import print_function\n",
    "from __future__ import absolute_import\n",
    "from __future__ import print_function\n",
    "import keras\n",
    "import tensorflow as tf\n",
    "import json\n",
    "import numpy as np\n",
    "from tensorflow.keras.layers import Dense, Conv2D, BatchNormalization, Activation\n",
    "from tensorflow.keras.layers import AveragePooling2D, Input, Flatten\n",
    "from tensorflow.keras.optimizers import Adam\n",
    "from tensorflow.keras.callbacks import ModelCheckpoint, LearningRateScheduler\n",
    "from tensorflow.keras.callbacks import ReduceLROnPlateau\n",
    "from tensorflow.keras.preprocessing.image import ImageDataGenerator\n",
    "from tensorflow.keras.regularizers import l2\n",
    "from tensorflow.keras import backend as K\n",
    "from tensorflow.keras.models import Model\n",
    "from tensorflow.keras.datasets import cifar10\n",
    "import numpy as np\n",
    "import os\n",
    "from keras.layers import GlobalAveragePooling2D, GlobalMaxPooling2D, Reshape, Dense, multiply, Permute, Concatenate, Conv2D, Add, Activation, Lambda\n",
    "from keras import backend as K\n",
    "from keras.activations import sigmoid"
   ]
  },
  {
   "cell_type": "code",
   "execution_count": 2,
   "metadata": {},
   "outputs": [
    {
     "name": "stdout",
     "output_type": "stream",
     "text": [
      "Found 2003 images belonging to 7 classes.\n",
      "The total number of samples is：\n",
      "2003\n"
     ]
    }
   ],
   "source": [
    "test_dir=\"/data/azhuang/Skin/HAM10000/Image_transfer/testImage\"\n",
    "\n",
    "height = 450  #height of the image\n",
    "width = 600  #width of the image\n",
    "channels = 3  #colour picture\n",
    "batch_size = 200 * 2  #400 images at a time\n",
    "num_classes = 7  #seven categories\n",
    "SEED = 666\n",
    "epochs = 300\n",
    "\n",
    "test_datagen = keras.preprocessing.image.ImageDataGenerator(rescale = 1./255)\n",
    "test_generator = test_datagen.flow_from_directory(test_dir,\n",
    "                                                    target_size = (height, width),\n",
    "                                                    batch_size = batch_size,\n",
    "                                                    seed = SEED,\n",
    "                                                    shuffle = False,\n",
    "                                                    class_mode = \"categorical\")\n",
    "test_num = test_generator.samples\n",
    "print(\"The total number of samples is：\")\n",
    "print(test_num)"
   ]
  },
  {
   "cell_type": "code",
   "execution_count": 3,
   "metadata": {},
   "outputs": [
    {
     "name": "stderr",
     "output_type": "stream",
     "text": [
      "/data/azhuang/software/Anaconda2/lib/python3.7/site-packages/keras/layers/core/lambda_layer.py:305: UserWarning: keras_applications.inception_resnet_v2 is not loaded, but a Lambda layer uses it. It may cause errors.\n",
      "  'function_type')\n"
     ]
    }
   ],
   "source": [
    "import tensorflow as tf\n",
    "from keras.models import load_model\n",
    "model=load_model('callbacks_EarlyStopping_2/callbacks_EarlyStopping.h5')"
   ]
  },
  {
   "cell_type": "code",
   "execution_count": 4,
   "metadata": {},
   "outputs": [
    {
     "name": "stderr",
     "output_type": "stream",
     "text": [
      "/data/azhuang/software/Anaconda2/lib/python3.7/site-packages/ipykernel_launcher.py:3: UserWarning: `Model.predict_generator` is deprecated and will be removed in a future version. Please use `Model.predict`, which supports generators.\n",
      "  This is separate from the ipykernel package so we can avoid doing imports until\n"
     ]
    }
   ],
   "source": [
    "test_predict = model.predict_generator(test_generator,\n",
    "                       workers = 50,\n",
    "                       use_multiprocessing = True)"
   ]
  },
  {
   "cell_type": "code",
   "execution_count": 5,
   "metadata": {},
   "outputs": [],
   "source": [
    "test_predict_class_indices = np.argmax(test_predict[-1], axis = 1)#Find the predicted class which has the highest value"
   ]
  },
  {
   "cell_type": "code",
   "execution_count": 6,
   "metadata": {},
   "outputs": [],
   "source": [
    "y_test=test_generator.classes"
   ]
  },
  {
   "cell_type": "raw",
   "metadata": {},
   "source": [
    "I am deeply sorry for the error in the description of the paper due to the error in the category labeling here in the early stage."
   ]
  },
  {
   "cell_type": "code",
   "execution_count": 7,
   "metadata": {},
   "outputs": [
    {
     "name": "stdout",
     "output_type": "stream",
     "text": [
      "              precision    recall  f1-score   support\n",
      "\n",
      "       akiec     0.7361    0.8154    0.7737        65\n",
      "         bcc     0.9327    0.9417    0.9372       103\n",
      "         bkl     0.9158    0.8409    0.8768       220\n",
      "          df     0.9500    0.8261    0.8837        23\n",
      "          nv     0.9328    0.9828    0.9572      1341\n",
      "         mel     0.8951    0.6502    0.7532       223\n",
      "        vasc     0.8667    0.9286    0.8966        28\n",
      "\n",
      "    accuracy                         0.9201      2003\n",
      "   macro avg     0.8899    0.8551    0.8683      2003\n",
      "weighted avg     0.9196    0.9201    0.9170      2003\n",
      "\n"
     ]
    }
   ],
   "source": [
    "from sklearn.metrics import classification_report\n",
    "\n",
    "# target_names=['nv','mel','bkl','bcc','akiec','vasc','df']\n",
    "target_names=['akiec','bcc','bkl','df','nv','mel','vasc']\n",
    "print(classification_report(y_test, test_predict_class_indices, target_names=target_names,digits=4))"
   ]
  },
  {
   "cell_type": "raw",
   "metadata": {},
   "source": [
    "In the early stage, we matched the index of each category with the category, but due to personal negligence, there was a mismatch during model testing"
   ]
  },
  {
   "cell_type": "code",
   "execution_count": 8,
   "metadata": {},
   "outputs": [
    {
     "data": {
      "text/plain": [
       "{'0': 0, '1': 1, '2': 2, '3': 3, '4': 4, '5': 5, '6': 6}"
      ]
     },
     "execution_count": 8,
     "metadata": {},
     "output_type": "execute_result"
    }
   ],
   "source": [
    "test_generator.class_indices"
   ]
  },
  {
   "cell_type": "code",
   "execution_count": 9,
   "metadata": {},
   "outputs": [
    {
     "data": {
      "text/plain": [
       "array([[  53,    3,    0,    0,    8,    1,    0],\n",
       "       [   2,   97,    1,    1,    1,    0,    1],\n",
       "       [  13,    0,  185,    0,   15,    7,    0],\n",
       "       [   0,    1,    0,   19,    3,    0,    0],\n",
       "       [   3,    3,    7,    0, 1318,    9,    1],\n",
       "       [   1,    0,    9,    0,   66,  145,    2],\n",
       "       [   0,    0,    0,    0,    2,    0,   26]])"
      ]
     },
     "execution_count": 9,
     "metadata": {},
     "output_type": "execute_result"
    }
   ],
   "source": [
    "from sklearn.metrics import confusion_matrix\n",
    "confusion_matrix(y_test, test_predict_class_indices)"
   ]
  },
  {
   "cell_type": "code",
   "execution_count": 10,
   "metadata": {},
   "outputs": [
    {
     "data": {
      "text/plain": [
       "0.9201198202695956"
      ]
     },
     "execution_count": 10,
     "metadata": {},
     "output_type": "execute_result"
    }
   ],
   "source": [
    "# Accuracy\n",
    "from sklearn.metrics import accuracy_score\n",
    "accuracy_score(y_test, test_predict_class_indices)"
   ]
  },
  {
   "cell_type": "code",
   "execution_count": 11,
   "metadata": {},
   "outputs": [
    {
     "data": {
      "text/plain": [
       "0.9201198202695956"
      ]
     },
     "execution_count": 11,
     "metadata": {},
     "output_type": "execute_result"
    }
   ],
   "source": [
    "#recall、Sensitivity\n",
    "from sklearn.metrics import recall_score\n",
    "recall_score(y_test, test_predict_class_indices,average='micro')"
   ]
  },
  {
   "cell_type": "code",
   "execution_count": 12,
   "metadata": {},
   "outputs": [
    {
     "name": "stdout",
     "output_type": "stream",
     "text": [
      "[  53.   97.  185.   19. 1318.  145.   26.]\n",
      "[1919. 1893. 1766. 1979.  567. 1763. 1971.]\n",
      "[19.  7. 17.  1. 95. 17.  4.]\n",
      "[12.  6. 35.  4. 23. 78.  2.]\n",
      "[0.81538462 0.94174757 0.84090909 0.82608696 0.98284862 0.65022422\n",
      " 0.92857143]\n",
      "[0.99019608 0.99631579 0.99046551 0.99949495 0.85649547 0.99044944\n",
      " 0.99797468]\n",
      "[0.73611111 0.93269231 0.91584158 0.95       0.93276716 0.89506173\n",
      " 0.86666667]\n",
      "[0.9937856  0.99684044 0.98056635 0.99798285 0.96101695 0.95763172\n",
      " 0.99898632]\n",
      "[0.00980392 0.00368421 0.00953449 0.00050505 0.14350453 0.00955056\n",
      " 0.00202532]\n",
      "[0.18461538 0.05825243 0.15909091 0.17391304 0.01715138 0.34977578\n",
      " 0.07142857]\n",
      "[0.26388889 0.06730769 0.08415842 0.05       0.06723284 0.10493827\n",
      " 0.13333333]\n",
      "[0.81538462 0.94174757 0.84090909 0.82608696 0.98284862 0.65022422\n",
      " 0.92857143]\n"
     ]
    }
   ],
   "source": [
    "import numpy as np\n",
    "\n",
    "# 1-confusion_matrix\n",
    "confusion_matrix = confusion_matrix(y_test, test_predict_class_indices)\n",
    "# 2-TP/TN/FP/FN\n",
    "FP = confusion_matrix .sum(axis=0) - np.diag(confusion_matrix )  \n",
    "FN = confusion_matrix .sum(axis=1) - np.diag(confusion_matrix )\n",
    "TP = np.diag(confusion_matrix )\n",
    "TN = confusion_matrix .sum() - (FP + FN + TP)\n",
    "FP = FP.astype(float) \n",
    "FN = FN.astype(float)\n",
    "TP = TP.astype(float)\n",
    "TN = TN.astype(float)\n",
    "print(TP)\n",
    "print(TN)\n",
    "print(FP)\n",
    "print(FN)\n",
    "\n",
    "# 3-Calculation of other performance parameters\n",
    "TPR = TP/(TP+FN) # Sensitivity/ hit rate/ recall/ true positive rate\n",
    "TNR = TN/(TN+FP) # Specificity/ true negative rate\n",
    "PPV = TP/(TP+FP) # Precision/ positive predictive value\n",
    "NPV = TN/(TN+FN) # Negative predictive value\n",
    "FPR = FP/(FP+TN) # Fall out/ false positive rate\n",
    "FNR = FN/(TP+FN) # False negative rate\n",
    "FDR = FP/(TP+FP) # False discovery rate\n",
    "ACC = TP/(TP+FN) # accuracy of each class\n",
    "print(TPR)\n",
    "print(TNR)\n",
    "print(PPV)\n",
    "print(NPV)\n",
    "print(FPR)\n",
    "print(FNR)\n",
    "print(FDR)\n",
    "print(ACC)"
   ]
  },
  {
   "cell_type": "code",
   "execution_count": 13,
   "metadata": {},
   "outputs": [
    {
     "name": "stdout",
     "output_type": "stream",
     "text": [
      "0.7737226292013425\n",
      "0.9371980674036733\n",
      "0.8767772487850678\n",
      "0.8837209322228231\n",
      "0.9571532303699433\n",
      "0.7532467570045539\n",
      "0.8965517265873959\n"
     ]
    }
   ],
   "source": [
    "precision=[0.73611111,0.93269231,0.91584158,0.95,0.93276716,0.89506173,0.86666667]\n",
    "recall=[0.81538462,0.94174757,0.84090909,0.82608696,0.98284862,0.65022422,0.92857143]\n",
    "for p,r in zip(precision,recall):\n",
    "    print((2*p*r)/(p+r))"
   ]
  },
  {
   "cell_type": "code",
   "execution_count": 14,
   "metadata": {},
   "outputs": [],
   "source": [
    "from sklearn.preprocessing import OneHotEncoder\n",
    "enc = OneHotEncoder()\n",
    "a=enc.fit_transform(np.array(y_test).reshape(len(y_test), -1))\n",
    "a=a.toarray()"
   ]
  },
  {
   "cell_type": "code",
   "execution_count": 16,
   "metadata": {},
   "outputs": [],
   "source": [
    "b=test_predict[-1]"
   ]
  },
  {
   "cell_type": "code",
   "execution_count": 19,
   "metadata": {},
   "outputs": [
    {
     "name": "stderr",
     "output_type": "stream",
     "text": [
      "/data/azhuang/software/Anaconda2/lib/python3.7/site-packages/ipykernel_launcher.py:32: DeprecationWarning: scipy.interp is deprecated and will be removed in SciPy 2.0.0, use numpy.interp instead\n"
     ]
    },
    {
     "data": {
      "image/png": "[encoded data removed]",
      "text/plain": [
       "<Figure size 504x432 with 1 Axes>"
      ]
     },
     "metadata": {
      "needs_background": "light"
     },
     "output_type": "display_data"
    }
   ],
   "source": [
    "#-*-coding:utf-8-*-\n",
    " \n",
    "import numpy as np\n",
    "import matplotlib.pyplot as plt\n",
    "from itertools import cycle\n",
    "from sklearn.metrics import roc_curve, auc\n",
    "from scipy import interp\n",
    "%matplotlib inline\n",
    "y_label = a\n",
    " \n",
    "y_score = b\n",
    " \n",
    "n_classes = 7\n",
    " \n",
    "# The ROC is calculated for each class\n",
    "fpr = dict()\n",
    "tpr = dict()\n",
    "roc_auc = dict()\n",
    "for i in range(n_classes):\n",
    "    fpr[i], tpr[i], _ = roc_curve(y_label[:, i], y_score[:, i])\n",
    "    roc_auc[i] = auc(fpr[i], tpr[i])\n",
    "\n",
    "fpr[\"micro\"], tpr[\"micro\"], _ = roc_curve(y_label.ravel(), y_score.ravel())\n",
    "roc_auc[\"micro\"] = auc(fpr[\"micro\"], tpr[\"micro\"])\n",
    " \n",
    "\n",
    "# First aggregate all false positive rates\n",
    "all_fpr = np.unique(np.concatenate([fpr[i] for i in range(n_classes)]))\n",
    "# Then interpolate all ROC curves at this points\n",
    "mean_tpr = np.zeros_like(all_fpr)\n",
    "for i in range(n_classes):\n",
    "    mean_tpr += interp(all_fpr, fpr[i], tpr[i])\n",
    "# Finally average it and compute AUC\n",
    "mean_tpr /= n_classes\n",
    "fpr[\"macro\"] = all_fpr\n",
    "tpr[\"macro\"] = mean_tpr\n",
    "roc_auc[\"macro\"] = auc(fpr[\"macro\"], tpr[\"macro\"])\n",
    "# Plot all ROC curves\n",
    "lw=2\n",
    "label=['akiec','bcc','bkl','df','nv','mel','vasc']\n",
    "colors = cycle(['aqua', 'darkorange', 'cornflowerblue'])\n",
    "with plt.style.context(['science','no-latex']):\n",
    "    plt.figure(figsize=(7,6))\n",
    "    plt.plot(fpr[\"micro\"], tpr[\"micro\"],\n",
    "             label='micro-average ROC (area = {0:0.4f})'\n",
    "               ''.format(roc_auc[\"micro\"]),)\n",
    "\n",
    "    plt.plot(fpr[\"macro\"], tpr[\"macro\"],\n",
    "             label='macro-average ROC (area = {0:0.4f})'\n",
    "               ''.format(roc_auc[\"macro\"]))\n",
    "\n",
    "    for i, color in zip(range(n_classes), colors):\n",
    "        plt.plot(fpr[i], tpr[i],\n",
    "                 label='ROC curve of class {0} (area = {1:0.4f})'\n",
    "             ''.format(label[i], roc_auc[i]))\n",
    "\n",
    "    plt.plot([0, 1], [0, 1], 'k--', lw=lw)\n",
    "    plt.xlim([0.0, 1.0])\n",
    "    plt.ylim([0.0, 1.05])\n",
    "    plt.xlabel('False Positive Rate',size=10)\n",
    "    plt.ylabel('True Positive Rate',size=10)\n",
    "    plt.legend(loc ='lower right')\n",
    "    plt.savefig(r'./roc_DeepEnsembleLearning.svg',format='svg')\n",
    "    plt.show()"
   ]
  },
  {
   "cell_type": "code",
   "execution_count": null,
   "metadata": {},
   "outputs": [],
   "source": []
  }
 ],
 "metadata": {
  "kernelspec": {
   "display_name": "Python 3",
   "language": "python",
   "name": "python3"
  },
  "language_info": {
   "codemirror_mode": {
    "name": "ipython",
    "version": 3
   },
   "file_extension": ".py",
   "mimetype": "text/x-python",
   "name": "python",
   "nbconvert_exporter": "python",
   "pygments_lexer": "ipython3",
   "version": "3.7.2"
  }
 },
 "nbformat": 4,
 "nbformat_minor": 4
}
